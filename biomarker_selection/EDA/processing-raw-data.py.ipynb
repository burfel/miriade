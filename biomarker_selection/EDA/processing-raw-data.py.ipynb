{
 "cells": [
  {
   "cell_type": "code",
   "execution_count": 2,
   "id": "554137a3",
   "metadata": {},
   "outputs": [],
   "source": [
    "import os\n",
    "import pandas as pd\n",
    "\n",
    "from scipy.stats import shapiro\n",
    "\n",
    "pd.options.mode.chained_assignment = None"
   ]
  },
  {
   "cell_type": "code",
   "execution_count": 3,
   "id": "00e9205a",
   "metadata": {},
   "outputs": [],
   "source": [
    "data_path = os.getcwd() + \"../Datasets/CSF/raw/\"\n"
   ]
  },
  {
   "cell_type": "code",
   "execution_count": null,
   "id": "0bfcc7fb",
   "metadata": {},
   "outputs": [],
   "source": [
    "# example proteomics data\n",
    "proteomics_data = [1.2, 3.4, 2.1, 4.5, 3.6, 2.8, 4.0, 2.5, 3.9, 1.8]\n",
    "\n",
    "# perform Shapiro-Wilk test for normality\n",
    "stat, p = shapiro(proteomics_data)\n",
    "\n",
    "# interpret the results\n",
    "alpha = 0.05\n",
    "if p > alpha:\n",
    "    print(\"Proteomics data is normally distributed (fail to reject H0)\")\n",
    "else:\n",
    "    print(\"Proteomics data is not normally distributed (reject H0)\")\n",
    "    \n"
   ]
  }
 ],
 "metadata": {
  "kernelspec": {
   "display_name": "Python 3",
   "language": "python",
   "name": "python3"
  },
  "language_info": {
   "codemirror_mode": {
    "name": "ipython",
    "version": 3
   },
   "file_extension": ".py",
   "mimetype": "text/x-python",
   "name": "python",
   "nbconvert_exporter": "python",
   "pygments_lexer": "ipython3",
   "version": "3.8.8"
  }
 },
 "nbformat": 4,
 "nbformat_minor": 5
}
