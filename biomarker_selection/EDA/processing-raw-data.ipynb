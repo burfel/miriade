{
 "cells": [
  {
   "cell_type": "code",
   "execution_count": 18,
   "id": "ff5482a0",
   "metadata": {},
   "outputs": [],
   "source": [
    "import os\n",
    "import pandas as pd\n",
    "import math\n",
    "import numpy as np\n",
    "from scipy.stats import lognorm\n",
    "import matplotlib.pyplot as plt\n",
    "\n",
    "from scipy.stats import shapiro\n",
    "\n",
    "pd.options.mode.chained_assignment = None"
   ]
  },
  {
   "cell_type": "code",
   "execution_count": 19,
   "id": "be099c78",
   "metadata": {},
   "outputs": [
    {
     "name": "stdout",
     "output_type": "stream",
     "text": [
      "/Users/felicia.burtscher/Documents/UL/DATASETS/EMIF-AD MBD Study/\n"
     ]
    }
   ],
   "source": [
    "# data_path = os.getcwd() + \"../../../../DATASETS/EMIF-AD MBD Study\"\n",
    "path_to_file = \"/Users/felicia.burtscher/Documents/UL/DATASETS/EMIF-AD MBD Study/\"\n",
    "print(path_to_file)"
   ]
  },
  {
   "cell_type": "code",
   "execution_count": 20,
   "id": "f565facb",
   "metadata": {},
   "outputs": [
    {
     "data": {
      "text/plain": [
       "(array([[374.,   0.,   0., ...,   0.,   0.,   0.],\n",
       "        [374.,   0.,   0., ...,   0.,   0.,   0.],\n",
       "        [374.,   0.,   0., ...,   0.,   0.,   0.],\n",
       "        ...,\n",
       "        [374.,   0.,   0., ...,   0.,   0.,   0.],\n",
       "        [374.,   0.,   0., ...,   0.,   0.,   0.],\n",
       "        [374.,   0.,   0., ...,   0.,   0.,   0.]]),\n",
       " array([0.0, 458.0, 916.0, 1374.0, 1832.0, 2290.0, 2748.0, 3206.0, 3664.0,\n",
       "        4122.0, 4580.0, 5038.0, 5496.0, 5954.0, 6412.0, 6870.0, 7328.0,\n",
       "        7786.0, 8244.0, 8702.0, 9160.0], dtype=object),\n",
       " <a list of 710 BarContainer objects>)"
      ]
     },
     "execution_count": 20,
     "metadata": {},
     "output_type": "execute_result"
    },
    {
     "data": {
      "image/png": "[encoded data removed]",
      "text/plain": [
       "<Figure size 432x288 with 1 Axes>"
      ]
     },
     "metadata": {
      "needs_background": "light"
     },
     "output_type": "display_data"
    }
   ],
   "source": [
    "#make this example reproducible\n",
    "np.random.seed(1)\n",
    "\n",
    "#create histogram to visualize values in dataset\n",
    "plt.hist(emif, edgecolor='black', bins=20)"
   ]
  },
  {
   "cell_type": "code",
   "execution_count": 17,
   "id": "1a7ca27f",
   "metadata": {},
   "outputs": [
    {
     "name": "stdout",
     "output_type": "stream",
     "text": [
      "     1581  70-95  74  m      SCI  8750   87.5   43.2   94.2  122.7  ...  \\\n",
      "0    2445  70-95  70  f      SCI  8749   83.4   64.7   88.7   77.6  ...   \n",
      "1    2459  60-69  68  m      SCI  8748  197.4   91.3  106.0  126.2  ...   \n",
      "2    2483  70-95  74  f      SCI  8747   58.3   59.2   58.6   55.7  ...   \n",
      "3    3159  60-69  64  f      MCI  8746   94.2   58.1   69.9   76.7  ...   \n",
      "4    3173  70-95  74  f       AD  8745   56.9   64.1   38.4   67.2  ...   \n",
      "..    ...    ...  .. ..      ...   ...    ...    ...    ...    ...  ...   \n",
      "369   474  70-95  80  f  Control  9144  159.2   99.5  305.2  132.3  ...   \n",
      "370   476  60-69  66  f  Control  9143  182.9  106.7   73.6  200.8  ...   \n",
      "371   484  70-95  79  m  Control  9142   99.1   85.2   82.2  103.5  ...   \n",
      "372   574  70-95  71  f  Control  9141   65.2   41.8   49.4   83.8  ...   \n",
      "373   576  70-95  70  m  Control  9160   91.0   70.0  178.5   93.1  ...   \n",
      "\n",
      "      75.6  90.8.4  99.9.2  88.1.3  104.3.1  87.2.1  89.7.1  100.4.3  88.1.4  \\\n",
      "0    110.5   139.4   129.4   128.3    134.3   102.9   137.1    141.9   119.4   \n",
      "1     67.5    82.7    95.9    80.6    112.2    97.4    98.0     92.1    95.6   \n",
      "2     68.3    78.0    82.9    92.2    168.3    75.9    85.7     47.9    80.1   \n",
      "3    135.0   134.2   124.1   152.3    133.3   101.3   100.5    120.3   115.1   \n",
      "4     82.1    79.2    99.8    86.0    114.5    56.2   111.8     79.3    76.9   \n",
      "..     ...     ...     ...     ...      ...     ...     ...      ...     ...   \n",
      "369  137.8   167.6   155.6   140.9    128.8   119.1   103.1    133.1   105.6   \n",
      "370   86.4    95.7    96.8   113.8     92.3    81.8   107.1    113.8   105.7   \n",
      "371   49.1    60.3    83.4    82.0     76.2    82.5    60.0     37.0    72.5   \n",
      "372  130.7   173.6   147.3   185.8    155.1   136.9   110.3    138.1   126.0   \n",
      "373  105.1   113.3   121.0   138.1    114.9    99.6   112.0    115.6   108.4   \n",
      "\n",
      "      42.8  \n",
      "0     66.1  \n",
      "1     71.8  \n",
      "2     79.0  \n",
      "3     64.0  \n",
      "4     96.5  \n",
      "..     ...  \n",
      "369  101.3  \n",
      "370   61.9  \n",
      "371  103.4  \n",
      "372  105.3  \n",
      "373  234.9  \n",
      "\n",
      "[374 rows x 710 columns]\n"
     ]
    },
    {
     "ename": "TypeError",
     "evalue": "'<' not supported between instances of 'float' and 'str'",
     "output_type": "error",
     "traceback": [
      "\u001b[0;31m---------------------------------------------------------------------------\u001b[0m",
      "\u001b[0;31mTypeError\u001b[0m                                 Traceback (most recent call last)",
      "\u001b[0;32m<ipython-input-17-c34885014a30>\u001b[0m in \u001b[0;36m<module>\u001b[0;34m\u001b[0m\n\u001b[1;32m      4\u001b[0m \u001b[0;34m\u001b[0m\u001b[0m\n\u001b[1;32m      5\u001b[0m \u001b[0;31m# perform Shapiro-Wilk test for normality\u001b[0m\u001b[0;34m\u001b[0m\u001b[0;34m\u001b[0m\u001b[0;34m\u001b[0m\u001b[0m\n\u001b[0;32m----> 6\u001b[0;31m \u001b[0mstat\u001b[0m\u001b[0;34m,\u001b[0m \u001b[0mp\u001b[0m \u001b[0;34m=\u001b[0m \u001b[0mshapiro\u001b[0m\u001b[0;34m(\u001b[0m\u001b[0memif\u001b[0m\u001b[0;34m)\u001b[0m\u001b[0;34m\u001b[0m\u001b[0;34m\u001b[0m\u001b[0m\n\u001b[0m\u001b[1;32m      7\u001b[0m \u001b[0;34m\u001b[0m\u001b[0m\n\u001b[1;32m      8\u001b[0m \u001b[0;31m# interpret the results\u001b[0m\u001b[0;34m\u001b[0m\u001b[0;34m\u001b[0m\u001b[0;34m\u001b[0m\u001b[0m\n",
      "\u001b[0;32m~/opt/anaconda3/lib/python3.8/site-packages/scipy/stats/morestats.py\u001b[0m in \u001b[0;36mshapiro\u001b[0;34m(x)\u001b[0m\n\u001b[1;32m   1673\u001b[0m     \u001b[0minit\u001b[0m \u001b[0;34m=\u001b[0m \u001b[0;36m0\u001b[0m\u001b[0;34m\u001b[0m\u001b[0;34m\u001b[0m\u001b[0m\n\u001b[1;32m   1674\u001b[0m \u001b[0;34m\u001b[0m\u001b[0m\n\u001b[0;32m-> 1675\u001b[0;31m     \u001b[0my\u001b[0m \u001b[0;34m=\u001b[0m \u001b[0msort\u001b[0m\u001b[0;34m(\u001b[0m\u001b[0mx\u001b[0m\u001b[0;34m)\u001b[0m\u001b[0;34m\u001b[0m\u001b[0;34m\u001b[0m\u001b[0m\n\u001b[0m\u001b[1;32m   1676\u001b[0m     \u001b[0ma\u001b[0m\u001b[0;34m,\u001b[0m \u001b[0mw\u001b[0m\u001b[0;34m,\u001b[0m \u001b[0mpw\u001b[0m\u001b[0;34m,\u001b[0m \u001b[0mifault\u001b[0m \u001b[0;34m=\u001b[0m \u001b[0mstatlib\u001b[0m\u001b[0;34m.\u001b[0m\u001b[0mswilk\u001b[0m\u001b[0;34m(\u001b[0m\u001b[0my\u001b[0m\u001b[0;34m,\u001b[0m \u001b[0ma\u001b[0m\u001b[0;34m[\u001b[0m\u001b[0;34m:\u001b[0m\u001b[0mN\u001b[0m\u001b[0;34m//\u001b[0m\u001b[0;36m2\u001b[0m\u001b[0;34m]\u001b[0m\u001b[0;34m,\u001b[0m \u001b[0minit\u001b[0m\u001b[0;34m)\u001b[0m\u001b[0;34m\u001b[0m\u001b[0;34m\u001b[0m\u001b[0m\n\u001b[1;32m   1677\u001b[0m     \u001b[0;32mif\u001b[0m \u001b[0mifault\u001b[0m \u001b[0;32mnot\u001b[0m \u001b[0;32min\u001b[0m \u001b[0;34m[\u001b[0m\u001b[0;36m0\u001b[0m\u001b[0;34m,\u001b[0m \u001b[0;36m2\u001b[0m\u001b[0;34m]\u001b[0m\u001b[0;34m:\u001b[0m\u001b[0;34m\u001b[0m\u001b[0;34m\u001b[0m\u001b[0m\n",
      "\u001b[0;32m<__array_function__ internals>\u001b[0m in \u001b[0;36msort\u001b[0;34m(*args, **kwargs)\u001b[0m\n",
      "\u001b[0;32m~/opt/anaconda3/lib/python3.8/site-packages/numpy/core/fromnumeric.py\u001b[0m in \u001b[0;36msort\u001b[0;34m(a, axis, kind, order)\u001b[0m\n\u001b[1;32m    994\u001b[0m     \u001b[0;32melse\u001b[0m\u001b[0;34m:\u001b[0m\u001b[0;34m\u001b[0m\u001b[0;34m\u001b[0m\u001b[0m\n\u001b[1;32m    995\u001b[0m         \u001b[0ma\u001b[0m \u001b[0;34m=\u001b[0m \u001b[0masanyarray\u001b[0m\u001b[0;34m(\u001b[0m\u001b[0ma\u001b[0m\u001b[0;34m)\u001b[0m\u001b[0;34m.\u001b[0m\u001b[0mcopy\u001b[0m\u001b[0;34m(\u001b[0m\u001b[0morder\u001b[0m\u001b[0;34m=\u001b[0m\u001b[0;34m\"K\"\u001b[0m\u001b[0;34m)\u001b[0m\u001b[0;34m\u001b[0m\u001b[0;34m\u001b[0m\u001b[0m\n\u001b[0;32m--> 996\u001b[0;31m     \u001b[0ma\u001b[0m\u001b[0;34m.\u001b[0m\u001b[0msort\u001b[0m\u001b[0;34m(\u001b[0m\u001b[0maxis\u001b[0m\u001b[0;34m=\u001b[0m\u001b[0maxis\u001b[0m\u001b[0;34m,\u001b[0m \u001b[0mkind\u001b[0m\u001b[0;34m=\u001b[0m\u001b[0mkind\u001b[0m\u001b[0;34m,\u001b[0m \u001b[0morder\u001b[0m\u001b[0;34m=\u001b[0m\u001b[0morder\u001b[0m\u001b[0;34m)\u001b[0m\u001b[0;34m\u001b[0m\u001b[0;34m\u001b[0m\u001b[0m\n\u001b[0m\u001b[1;32m    997\u001b[0m     \u001b[0;32mreturn\u001b[0m \u001b[0ma\u001b[0m\u001b[0;34m\u001b[0m\u001b[0;34m\u001b[0m\u001b[0m\n\u001b[1;32m    998\u001b[0m \u001b[0;34m\u001b[0m\u001b[0m\n",
      "\u001b[0;31mTypeError\u001b[0m: '<' not supported between instances of 'float' and 'str'"
     ]
    }
   ],
   "source": [
    "# example proteomics data\n",
    "emif = pd.read_csv(path_to_file + \"EMIF-raw-data.csv\", sep=\"\\t\", header=1)\n",
    "print(emif)\n",
    "\n",
    "df.hist(color='blue', grid=False)\n",
    "plt.subtitle(\"Histogram plots for all numeric variables\")\n",
    "\n",
    "bit = dict(markerfacecolor = 'b', marker = 'p')\n",
    "boxplot = df2.boxplot(flierprops=bit)\n",
    "plt.title(\"Boxplot of continuous variables\", fontsize=15)\n",
    "\n",
    "for i in columns:\n",
    "    print([i])\n",
    "    a,b = stats.normaltest(df[[i]])\n",
    "    print(a,b)\n",
    "    if b < alpha:\n",
    "        print(\"The null hypothesis can be rejected\")\n",
    "    else:\n",
    "        print(\"The null hypothesis cannot be rejected\")\n",
    "\n",
    "# perform Shapiro-Wilk test for normality\n",
    "stat, p = shapiro(emif)\n",
    "\n",
    "# interpret the results\n",
    "alpha = 0.05\n",
    "if p > alpha:\n",
    "    print(\"Proteomics data is normally distributed (fail to reject H0)\")\n",
    "else:\n",
    "    print(\"Proteomics data is not normally distributed (reject H0)\")\n",
    "    \n"
   ]
  },
  {
   "cell_type": "code",
   "execution_count": null,
   "id": "e98d890b",
   "metadata": {},
   "outputs": [],
   "source": []
  }
 ],
 "metadata": {
  "kernelspec": {
   "display_name": "Python 3",
   "language": "python",
   "name": "python3"
  },
  "language_info": {
   "codemirror_mode": {
    "name": "ipython",
    "version": 3
   },
   "file_extension": ".py",
   "mimetype": "text/x-python",
   "name": "python",
   "nbconvert_exporter": "python",
   "pygments_lexer": "ipython3",
   "version": "3.8.8"
  }
 },
 "nbformat": 4,
 "nbformat_minor": 5
}
